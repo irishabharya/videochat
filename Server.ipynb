{
 "cells": [
  {
   "cell_type": "code",
   "execution_count": null,
   "id": "9ba86cfa",
   "metadata": {},
   "outputs": [],
   "source": [
    "# at server\n",
    "import socket\n",
    "import cv2\n",
    "import pickle\n",
    "import struct"
   ]
  },
  {
   "cell_type": "code",
   "execution_count": null,
   "id": "0597edf2",
   "metadata": {},
   "outputs": [],
   "source": [
    "server_socket = socket.socket(socket.AF_INET, socket.SOCK_STREAM)"
   ]
  },
  {
   "cell_type": "code",
   "execution_count": null,
   "id": "643858d8",
   "metadata": {},
   "outputs": [],
   "source": [
    "server_port = 4455"
   ]
  },
  {
   "cell_type": "code",
   "execution_count": null,
   "id": "1fbcf638",
   "metadata": {},
   "outputs": [],
   "source": [
    "server_ip = \"192.168.56.1\""
   ]
  },
  {
   "cell_type": "code",
   "execution_count": null,
   "id": "126174c3",
   "metadata": {},
   "outputs": [],
   "source": [
    "server_socket.bind((server_ip, server_port))\n",
    "server_socket.listen(5)"
   ]
  },
  {
   "cell_type": "code",
   "execution_count": null,
   "id": "ca64660b",
   "metadata": {},
   "outputs": [],
   "source": [
    "while True:\n",
    "    client_socket, addr = server_socket.accept()\n",
    "    if client_socket:\n",
    "        capture = cv2.VideoCapture(0)\n",
    "        while(capture.isOpened()):\n",
    "            image,frame = capture.read()\n",
    "            x = pickle.dumps(frame)\n",
    "            message = struct.pack(\"Q\", len(x))+x\n",
    "            client_socket.sendall(message)\n",
    "            cv2.imshow(\"video_chat\", frame)\n",
    "            if cv2.waitKey(10)==13:\n",
    "                client_socket.close()"
   ]
  },
  {
   "cell_type": "code",
   "execution_count": null,
   "id": "4cd97ed4",
   "metadata": {},
   "outputs": [],
   "source": []
  }
 ],
 "metadata": {
  "kernelspec": {
   "display_name": "Python 3",
   "language": "python",
   "name": "python3"
  },
  "language_info": {
   "codemirror_mode": {
    "name": "ipython",
    "version": 3
   },
   "file_extension": ".py",
   "mimetype": "text/x-python",
   "name": "python",
   "nbconvert_exporter": "python",
   "pygments_lexer": "ipython3",
   "version": "3.8.8"
  }
 },
 "nbformat": 4,
 "nbformat_minor": 5
}
