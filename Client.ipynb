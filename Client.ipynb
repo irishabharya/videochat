{
 "cells": [
  {
   "cell_type": "code",
   "execution_count": null,
   "id": "cabba52b",
   "metadata": {},
   "outputs": [],
   "source": [
    "# client\n",
    "import socket\n",
    "import cv2\n",
    "import pickle\n",
    "import struct"
   ]
  },
  {
   "cell_type": "code",
   "execution_count": null,
   "id": "5e9ebcb2",
   "metadata": {},
   "outputs": [],
   "source": [
    "client_socket = socket.socket(socket.AF_INET, socket.SOCK_STREAM)"
   ]
  },
  {
   "cell_type": "code",
   "execution_count": null,
   "id": "9094b9c8",
   "metadata": {},
   "outputs": [],
   "source": [
    "server_ip = \"192.168.56.1\""
   ]
  },
  {
   "cell_type": "code",
   "execution_count": null,
   "id": "4d128b88",
   "metadata": {},
   "outputs": [],
   "source": [
    "server_port = 4455"
   ]
  },
  {
   "cell_type": "code",
   "execution_count": null,
   "id": "31e5b32c",
   "metadata": {},
   "outputs": [],
   "source": [
    "client_socket.connect((server_ip, server_port))\n",
    "data = b''\n",
    "payload_size = struct.calcsize(\"Q\")\n",
    "\n",
    "\n",
    "while True:\n",
    "    while len(data)< payload_size:\n",
    "        packet = client_socket.recv(4*1024)\n",
    "        if not packet:\n",
    "            break\n",
    "        data+= packet\n",
    "    packed_msg_size = data[:payload_size]\n",
    "    data = data[payload_size:]\n",
    "    msg_size = struct.unpack(\"Q\", packed_msg_size)[0]\n",
    "    while len(data)< msg_size:\n",
    "        data+=client_socket.recv(4*1024)\n",
    "    frame_data = data[:msg_size]\n",
    "    data = data[msg_size:]\n",
    "    frame = pickle.loads(frame_data)\n",
    "    cv2.imshow(\"received\", frame)\n",
    "    if cv2.waitKey(10)==13:\n",
    "        break\n",
    "client_socket.close()"
   ]
  },
  {
   "cell_type": "code",
   "execution_count": null,
   "id": "27b718b8",
   "metadata": {},
   "outputs": [],
   "source": []
  }
 ],
 "metadata": {
  "kernelspec": {
   "display_name": "Python 3",
   "language": "python",
   "name": "python3"
  },
  "language_info": {
   "codemirror_mode": {
    "name": "ipython",
    "version": 3
   },
   "file_extension": ".py",
   "mimetype": "text/x-python",
   "name": "python",
   "nbconvert_exporter": "python",
   "pygments_lexer": "ipython3",
   "version": "3.8.8"
  }
 },
 "nbformat": 4,
 "nbformat_minor": 5
}
